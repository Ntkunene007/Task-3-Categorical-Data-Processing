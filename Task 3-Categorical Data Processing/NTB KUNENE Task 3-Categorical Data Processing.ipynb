{
 "cells": [
  {
   "cell_type": "code",
   "execution_count": 1,
   "id": "63aa218f-d833-47fb-9f5f-1487557f201b",
   "metadata": {
    "tags": []
   },
   "outputs": [],
   "source": [
    "import pandas as pd\n",
    "import seaborn as sns\n",
    "import matplotlib.pyplot as plt\n",
    "from sklearn.preprocessing import LabelEncoder, OneHotEncoder"
   ]
  },
  {
   "cell_type": "code",
   "execution_count": 2,
   "id": "da1324ae-0d10-48f4-b715-374a9f49f983",
   "metadata": {
    "tags": []
   },
   "outputs": [],
   "source": [
    "spectacles_data = pd.read_csv('Dots Potential Customer Survey Data - Sheet1.csv')"
   ]
  },
  {
   "cell_type": "code",
   "execution_count": 3,
   "id": "14ae05b2-0a43-4f03-8d24-ceba4d7a6a10",
   "metadata": {
    "tags": []
   },
   "outputs": [
    {
     "data": {
      "text/plain": [
       "array(['Male', 'Female'], dtype=object)"
      ]
     },
     "execution_count": 3,
     "metadata": {},
     "output_type": "execute_result"
    }
   ],
   "source": [
    "spectacles_data['Gender'].unique()"
   ]
  },
  {
   "cell_type": "code",
   "execution_count": 4,
   "id": "6d16587c-7c74-425d-a91a-883aec7d69d1",
   "metadata": {
    "tags": []
   },
   "outputs": [
    {
     "data": {
      "text/plain": [
       "array(['CAN', 'IND', 'JPN', 'KOR'], dtype=object)"
      ]
     },
     "execution_count": 4,
     "metadata": {},
     "output_type": "execute_result"
    }
   ],
   "source": [
    "spectacles_data['Country'].unique()"
   ]
  },
  {
   "cell_type": "code",
   "execution_count": 5,
   "id": "aa7546bd-5330-4623-a7b9-6e624e1cd9f4",
   "metadata": {
    "tags": []
   },
   "outputs": [
    {
     "data": {
      "text/plain": [
       "array(['Studying', 'Dropout', 'Graduate'], dtype=object)"
      ]
     },
     "execution_count": 5,
     "metadata": {},
     "output_type": "execute_result"
    }
   ],
   "source": [
    "spectacles_data['Education Status'].unique()"
   ]
  },
  {
   "cell_type": "code",
   "execution_count": 6,
   "id": "a7b69d12-94ea-485a-a36c-f8a5bb8d0ed8",
   "metadata": {
    "tags": []
   },
   "outputs": [],
   "source": [
    "categorical_columns = ['Country', 'Gender', 'Education Status']"
   ]
  },
  {
   "cell_type": "code",
   "execution_count": 7,
   "id": "19245752-4e73-46a7-9dd5-5c066cc2ff91",
   "metadata": {
    "tags": []
   },
   "outputs": [],
   "source": [
    "# One-hot encode categorical variables\n",
    "spectacles_data_encoded = pd.get_dummies(spectacles_data, columns=categorical_columns, drop_first=True)"
   ]
  },
  {
   "cell_type": "code",
   "execution_count": 8,
   "id": "2dd78d2e-8e32-48f2-8cb5-99e8ddde4789",
   "metadata": {
    "tags": []
   },
   "outputs": [
    {
     "data": {
      "text/html": [
       "<div>\n",
       "<style scoped>\n",
       "    .dataframe tbody tr th:only-of-type {\n",
       "        vertical-align: middle;\n",
       "    }\n",
       "\n",
       "    .dataframe tbody tr th {\n",
       "        vertical-align: top;\n",
       "    }\n",
       "\n",
       "    .dataframe thead th {\n",
       "        text-align: right;\n",
       "    }\n",
       "</style>\n",
       "<table border=\"1\" class=\"dataframe\">\n",
       "  <thead>\n",
       "    <tr style=\"text-align: right;\">\n",
       "      <th></th>\n",
       "      <th>Unique ID</th>\n",
       "      <th>Age</th>\n",
       "      <th>Annual Family Income ($)</th>\n",
       "      <th>Time spent watching videos/TV</th>\n",
       "      <th>Time spent playing indoor sports</th>\n",
       "      <th>Time spent playing outdoor sports</th>\n",
       "      <th>Total Time spent working in front of screen</th>\n",
       "      <th>Sleeping hours</th>\n",
       "      <th>IQ</th>\n",
       "      <th>Whether parents have specs</th>\n",
       "      <th>...</th>\n",
       "      <th>Has kids</th>\n",
       "      <th>Drinks alcohol</th>\n",
       "      <th>Smoker</th>\n",
       "      <th>Wear Specs</th>\n",
       "      <th>Country_IND</th>\n",
       "      <th>Country_JPN</th>\n",
       "      <th>Country_KOR</th>\n",
       "      <th>Gender_Male</th>\n",
       "      <th>Education Status_Graduate</th>\n",
       "      <th>Education Status_Studying</th>\n",
       "    </tr>\n",
       "  </thead>\n",
       "  <tbody>\n",
       "    <tr>\n",
       "      <th>0</th>\n",
       "      <td>7319483</td>\n",
       "      <td>13</td>\n",
       "      <td>20423</td>\n",
       "      <td>3</td>\n",
       "      <td>4</td>\n",
       "      <td>3</td>\n",
       "      <td>7</td>\n",
       "      <td>8</td>\n",
       "      <td>95</td>\n",
       "      <td>1</td>\n",
       "      <td>...</td>\n",
       "      <td>0</td>\n",
       "      <td>0</td>\n",
       "      <td>0</td>\n",
       "      <td>1</td>\n",
       "      <td>0</td>\n",
       "      <td>0</td>\n",
       "      <td>0</td>\n",
       "      <td>1</td>\n",
       "      <td>0</td>\n",
       "      <td>1</td>\n",
       "    </tr>\n",
       "    <tr>\n",
       "      <th>1</th>\n",
       "      <td>4791965</td>\n",
       "      <td>13</td>\n",
       "      <td>5570</td>\n",
       "      <td>3</td>\n",
       "      <td>3</td>\n",
       "      <td>1</td>\n",
       "      <td>10</td>\n",
       "      <td>3</td>\n",
       "      <td>120</td>\n",
       "      <td>1</td>\n",
       "      <td>...</td>\n",
       "      <td>0</td>\n",
       "      <td>0</td>\n",
       "      <td>1</td>\n",
       "      <td>1</td>\n",
       "      <td>0</td>\n",
       "      <td>0</td>\n",
       "      <td>0</td>\n",
       "      <td>0</td>\n",
       "      <td>0</td>\n",
       "      <td>1</td>\n",
       "    </tr>\n",
       "    <tr>\n",
       "      <th>2</th>\n",
       "      <td>2991718</td>\n",
       "      <td>13</td>\n",
       "      <td>58706</td>\n",
       "      <td>2</td>\n",
       "      <td>2</td>\n",
       "      <td>1</td>\n",
       "      <td>4</td>\n",
       "      <td>9</td>\n",
       "      <td>114</td>\n",
       "      <td>0</td>\n",
       "      <td>...</td>\n",
       "      <td>0</td>\n",
       "      <td>0</td>\n",
       "      <td>0</td>\n",
       "      <td>0</td>\n",
       "      <td>0</td>\n",
       "      <td>0</td>\n",
       "      <td>0</td>\n",
       "      <td>0</td>\n",
       "      <td>0</td>\n",
       "      <td>1</td>\n",
       "    </tr>\n",
       "    <tr>\n",
       "      <th>3</th>\n",
       "      <td>4220106</td>\n",
       "      <td>13</td>\n",
       "      <td>57118</td>\n",
       "      <td>6</td>\n",
       "      <td>2</td>\n",
       "      <td>4</td>\n",
       "      <td>10</td>\n",
       "      <td>11</td>\n",
       "      <td>117</td>\n",
       "      <td>0</td>\n",
       "      <td>...</td>\n",
       "      <td>0</td>\n",
       "      <td>0</td>\n",
       "      <td>0</td>\n",
       "      <td>0</td>\n",
       "      <td>0</td>\n",
       "      <td>0</td>\n",
       "      <td>0</td>\n",
       "      <td>1</td>\n",
       "      <td>0</td>\n",
       "      <td>1</td>\n",
       "    </tr>\n",
       "    <tr>\n",
       "      <th>4</th>\n",
       "      <td>2263008</td>\n",
       "      <td>14</td>\n",
       "      <td>59834</td>\n",
       "      <td>6</td>\n",
       "      <td>3</td>\n",
       "      <td>4</td>\n",
       "      <td>13</td>\n",
       "      <td>12</td>\n",
       "      <td>117</td>\n",
       "      <td>1</td>\n",
       "      <td>...</td>\n",
       "      <td>0</td>\n",
       "      <td>0</td>\n",
       "      <td>0</td>\n",
       "      <td>0</td>\n",
       "      <td>0</td>\n",
       "      <td>0</td>\n",
       "      <td>0</td>\n",
       "      <td>1</td>\n",
       "      <td>0</td>\n",
       "      <td>1</td>\n",
       "    </tr>\n",
       "    <tr>\n",
       "      <th>...</th>\n",
       "      <td>...</td>\n",
       "      <td>...</td>\n",
       "      <td>...</td>\n",
       "      <td>...</td>\n",
       "      <td>...</td>\n",
       "      <td>...</td>\n",
       "      <td>...</td>\n",
       "      <td>...</td>\n",
       "      <td>...</td>\n",
       "      <td>...</td>\n",
       "      <td>...</td>\n",
       "      <td>...</td>\n",
       "      <td>...</td>\n",
       "      <td>...</td>\n",
       "      <td>...</td>\n",
       "      <td>...</td>\n",
       "      <td>...</td>\n",
       "      <td>...</td>\n",
       "      <td>...</td>\n",
       "      <td>...</td>\n",
       "      <td>...</td>\n",
       "    </tr>\n",
       "    <tr>\n",
       "      <th>3215</th>\n",
       "      <td>4936093</td>\n",
       "      <td>78</td>\n",
       "      <td>15861</td>\n",
       "      <td>2</td>\n",
       "      <td>3</td>\n",
       "      <td>1</td>\n",
       "      <td>5</td>\n",
       "      <td>8</td>\n",
       "      <td>111</td>\n",
       "      <td>0</td>\n",
       "      <td>...</td>\n",
       "      <td>1</td>\n",
       "      <td>0</td>\n",
       "      <td>0</td>\n",
       "      <td>1</td>\n",
       "      <td>0</td>\n",
       "      <td>0</td>\n",
       "      <td>1</td>\n",
       "      <td>0</td>\n",
       "      <td>0</td>\n",
       "      <td>0</td>\n",
       "    </tr>\n",
       "    <tr>\n",
       "      <th>3216</th>\n",
       "      <td>3458615</td>\n",
       "      <td>78</td>\n",
       "      <td>24510</td>\n",
       "      <td>6</td>\n",
       "      <td>1</td>\n",
       "      <td>1</td>\n",
       "      <td>11</td>\n",
       "      <td>8</td>\n",
       "      <td>99</td>\n",
       "      <td>0</td>\n",
       "      <td>...</td>\n",
       "      <td>1</td>\n",
       "      <td>1</td>\n",
       "      <td>0</td>\n",
       "      <td>0</td>\n",
       "      <td>0</td>\n",
       "      <td>0</td>\n",
       "      <td>1</td>\n",
       "      <td>1</td>\n",
       "      <td>1</td>\n",
       "      <td>0</td>\n",
       "    </tr>\n",
       "    <tr>\n",
       "      <th>3217</th>\n",
       "      <td>7651095</td>\n",
       "      <td>78</td>\n",
       "      <td>6716</td>\n",
       "      <td>9</td>\n",
       "      <td>1</td>\n",
       "      <td>1</td>\n",
       "      <td>9</td>\n",
       "      <td>7</td>\n",
       "      <td>113</td>\n",
       "      <td>0</td>\n",
       "      <td>...</td>\n",
       "      <td>1</td>\n",
       "      <td>1</td>\n",
       "      <td>0</td>\n",
       "      <td>1</td>\n",
       "      <td>0</td>\n",
       "      <td>0</td>\n",
       "      <td>1</td>\n",
       "      <td>1</td>\n",
       "      <td>0</td>\n",
       "      <td>0</td>\n",
       "    </tr>\n",
       "    <tr>\n",
       "      <th>3218</th>\n",
       "      <td>7490009</td>\n",
       "      <td>78</td>\n",
       "      <td>37569</td>\n",
       "      <td>1</td>\n",
       "      <td>3</td>\n",
       "      <td>-1</td>\n",
       "      <td>7</td>\n",
       "      <td>8</td>\n",
       "      <td>104</td>\n",
       "      <td>0</td>\n",
       "      <td>...</td>\n",
       "      <td>0</td>\n",
       "      <td>1</td>\n",
       "      <td>0</td>\n",
       "      <td>0</td>\n",
       "      <td>0</td>\n",
       "      <td>0</td>\n",
       "      <td>1</td>\n",
       "      <td>1</td>\n",
       "      <td>0</td>\n",
       "      <td>0</td>\n",
       "    </tr>\n",
       "    <tr>\n",
       "      <th>3219</th>\n",
       "      <td>9367449</td>\n",
       "      <td>78</td>\n",
       "      <td>17534</td>\n",
       "      <td>9</td>\n",
       "      <td>2</td>\n",
       "      <td>3</td>\n",
       "      <td>8</td>\n",
       "      <td>7</td>\n",
       "      <td>109</td>\n",
       "      <td>0</td>\n",
       "      <td>...</td>\n",
       "      <td>1</td>\n",
       "      <td>1</td>\n",
       "      <td>1</td>\n",
       "      <td>1</td>\n",
       "      <td>0</td>\n",
       "      <td>0</td>\n",
       "      <td>1</td>\n",
       "      <td>1</td>\n",
       "      <td>1</td>\n",
       "      <td>0</td>\n",
       "    </tr>\n",
       "  </tbody>\n",
       "</table>\n",
       "<p>3220 rows × 32 columns</p>\n",
       "</div>"
      ],
      "text/plain": [
       "      Unique ID  Age  Annual Family Income ($)  Time spent watching videos/TV  \\\n",
       "0       7319483   13                     20423                              3   \n",
       "1       4791965   13                      5570                              3   \n",
       "2       2991718   13                     58706                              2   \n",
       "3       4220106   13                     57118                              6   \n",
       "4       2263008   14                     59834                              6   \n",
       "...         ...  ...                       ...                            ...   \n",
       "3215    4936093   78                     15861                              2   \n",
       "3216    3458615   78                     24510                              6   \n",
       "3217    7651095   78                      6716                              9   \n",
       "3218    7490009   78                     37569                              1   \n",
       "3219    9367449   78                     17534                              9   \n",
       "\n",
       "      Time spent playing indoor sports  Time spent playing outdoor sports  \\\n",
       "0                                    4                                  3   \n",
       "1                                    3                                  1   \n",
       "2                                    2                                  1   \n",
       "3                                    2                                  4   \n",
       "4                                    3                                  4   \n",
       "...                                ...                                ...   \n",
       "3215                                 3                                  1   \n",
       "3216                                 1                                  1   \n",
       "3217                                 1                                  1   \n",
       "3218                                 3                                 -1   \n",
       "3219                                 2                                  3   \n",
       "\n",
       "      Total Time spent working in front of screen  Sleeping hours   IQ  \\\n",
       "0                                               7               8   95   \n",
       "1                                              10               3  120   \n",
       "2                                               4               9  114   \n",
       "3                                              10              11  117   \n",
       "4                                              13              12  117   \n",
       "...                                           ...             ...  ...   \n",
       "3215                                            5               8  111   \n",
       "3216                                           11               8   99   \n",
       "3217                                            9               7  113   \n",
       "3218                                            7               8  104   \n",
       "3219                                            8               7  109   \n",
       "\n",
       "      Whether parents have specs  ...  Has kids  Drinks alcohol  Smoker  \\\n",
       "0                              1  ...         0               0       0   \n",
       "1                              1  ...         0               0       1   \n",
       "2                              0  ...         0               0       0   \n",
       "3                              0  ...         0               0       0   \n",
       "4                              1  ...         0               0       0   \n",
       "...                          ...  ...       ...             ...     ...   \n",
       "3215                           0  ...         1               0       0   \n",
       "3216                           0  ...         1               1       0   \n",
       "3217                           0  ...         1               1       0   \n",
       "3218                           0  ...         0               1       0   \n",
       "3219                           0  ...         1               1       1   \n",
       "\n",
       "      Wear Specs  Country_IND  Country_JPN  Country_KOR  Gender_Male  \\\n",
       "0              1            0            0            0            1   \n",
       "1              1            0            0            0            0   \n",
       "2              0            0            0            0            0   \n",
       "3              0            0            0            0            1   \n",
       "4              0            0            0            0            1   \n",
       "...          ...          ...          ...          ...          ...   \n",
       "3215           1            0            0            1            0   \n",
       "3216           0            0            0            1            1   \n",
       "3217           1            0            0            1            1   \n",
       "3218           0            0            0            1            1   \n",
       "3219           1            0            0            1            1   \n",
       "\n",
       "      Education Status_Graduate  Education Status_Studying  \n",
       "0                             0                          1  \n",
       "1                             0                          1  \n",
       "2                             0                          1  \n",
       "3                             0                          1  \n",
       "4                             0                          1  \n",
       "...                         ...                        ...  \n",
       "3215                          0                          0  \n",
       "3216                          1                          0  \n",
       "3217                          0                          0  \n",
       "3218                          0                          0  \n",
       "3219                          1                          0  \n",
       "\n",
       "[3220 rows x 32 columns]"
      ]
     },
     "execution_count": 8,
     "metadata": {},
     "output_type": "execute_result"
    }
   ],
   "source": [
    "spectacles_data_encoded"
   ]
  },
  {
   "cell_type": "code",
   "execution_count": 9,
   "id": "65646a89-07dc-40bd-ad89-b92635b3275c",
   "metadata": {
    "tags": []
   },
   "outputs": [
    {
     "data": {
      "text/plain": [
       "array([1, 0], dtype=uint8)"
      ]
     },
     "execution_count": 9,
     "metadata": {},
     "output_type": "execute_result"
    }
   ],
   "source": [
    "spectacles_data_encoded['Gender_Male'].unique()"
   ]
  },
  {
   "cell_type": "code",
   "execution_count": 10,
   "id": "e1149733-0938-401c-969f-047f01c56126",
   "metadata": {
    "tags": []
   },
   "outputs": [
    {
     "data": {
      "text/plain": [
       "array(['CAN', 'IND', 'JPN', 'KOR'], dtype=object)"
      ]
     },
     "execution_count": 10,
     "metadata": {},
     "output_type": "execute_result"
    }
   ],
   "source": [
    "spectacles_data['Country'].unique()"
   ]
  },
  {
   "cell_type": "code",
   "execution_count": 11,
   "id": "3f32667b-20aa-4e7a-afa7-29b33ff197c9",
   "metadata": {
    "tags": []
   },
   "outputs": [
    {
     "data": {
      "text/plain": [
       "array(['Studying', 'Dropout', 'Graduate'], dtype=object)"
      ]
     },
     "execution_count": 11,
     "metadata": {},
     "output_type": "execute_result"
    }
   ],
   "source": [
    "spectacles_data['Education Status'].unique()"
   ]
  },
  {
   "cell_type": "code",
   "execution_count": 12,
   "id": "437e7b10-482a-49bc-936f-844f81ef9a12",
   "metadata": {
    "tags": []
   },
   "outputs": [
    {
     "data": {
      "text/html": [
       "<div>\n",
       "<style scoped>\n",
       "    .dataframe tbody tr th:only-of-type {\n",
       "        vertical-align: middle;\n",
       "    }\n",
       "\n",
       "    .dataframe tbody tr th {\n",
       "        vertical-align: top;\n",
       "    }\n",
       "\n",
       "    .dataframe thead th {\n",
       "        text-align: right;\n",
       "    }\n",
       "</style>\n",
       "<table border=\"1\" class=\"dataframe\">\n",
       "  <thead>\n",
       "    <tr style=\"text-align: right;\">\n",
       "      <th></th>\n",
       "      <th>Unique ID</th>\n",
       "      <th>Country</th>\n",
       "      <th>Age</th>\n",
       "      <th>Annual Family Income ($)</th>\n",
       "      <th>Gender</th>\n",
       "      <th>Time spent watching videos/TV</th>\n",
       "      <th>Time spent playing indoor sports</th>\n",
       "      <th>Time spent playing outdoor sports</th>\n",
       "      <th>Total Time spent working in front of screen</th>\n",
       "      <th>Sleeping hours</th>\n",
       "      <th>...</th>\n",
       "      <th>Has OTT subscription</th>\n",
       "      <th>Number of friends</th>\n",
       "      <th>Likes spicy food</th>\n",
       "      <th>Likes desserts</th>\n",
       "      <th>Wants to change career</th>\n",
       "      <th>Has debt</th>\n",
       "      <th>Has kids</th>\n",
       "      <th>Drinks alcohol</th>\n",
       "      <th>Smoker</th>\n",
       "      <th>Wear Specs</th>\n",
       "    </tr>\n",
       "  </thead>\n",
       "  <tbody>\n",
       "    <tr>\n",
       "      <th>0</th>\n",
       "      <td>7319483</td>\n",
       "      <td>CAN</td>\n",
       "      <td>13</td>\n",
       "      <td>20423</td>\n",
       "      <td>Male</td>\n",
       "      <td>3</td>\n",
       "      <td>4</td>\n",
       "      <td>3</td>\n",
       "      <td>7</td>\n",
       "      <td>8</td>\n",
       "      <td>...</td>\n",
       "      <td>1</td>\n",
       "      <td>4</td>\n",
       "      <td>0</td>\n",
       "      <td>1</td>\n",
       "      <td>0</td>\n",
       "      <td>0</td>\n",
       "      <td>0</td>\n",
       "      <td>0</td>\n",
       "      <td>0</td>\n",
       "      <td>1</td>\n",
       "    </tr>\n",
       "    <tr>\n",
       "      <th>1</th>\n",
       "      <td>4791965</td>\n",
       "      <td>CAN</td>\n",
       "      <td>13</td>\n",
       "      <td>5570</td>\n",
       "      <td>Female</td>\n",
       "      <td>3</td>\n",
       "      <td>3</td>\n",
       "      <td>1</td>\n",
       "      <td>10</td>\n",
       "      <td>3</td>\n",
       "      <td>...</td>\n",
       "      <td>1</td>\n",
       "      <td>6</td>\n",
       "      <td>0</td>\n",
       "      <td>1</td>\n",
       "      <td>0</td>\n",
       "      <td>0</td>\n",
       "      <td>0</td>\n",
       "      <td>0</td>\n",
       "      <td>1</td>\n",
       "      <td>1</td>\n",
       "    </tr>\n",
       "    <tr>\n",
       "      <th>2</th>\n",
       "      <td>2991718</td>\n",
       "      <td>CAN</td>\n",
       "      <td>13</td>\n",
       "      <td>58706</td>\n",
       "      <td>Female</td>\n",
       "      <td>2</td>\n",
       "      <td>2</td>\n",
       "      <td>1</td>\n",
       "      <td>4</td>\n",
       "      <td>9</td>\n",
       "      <td>...</td>\n",
       "      <td>0</td>\n",
       "      <td>5</td>\n",
       "      <td>0</td>\n",
       "      <td>0</td>\n",
       "      <td>0</td>\n",
       "      <td>0</td>\n",
       "      <td>0</td>\n",
       "      <td>0</td>\n",
       "      <td>0</td>\n",
       "      <td>0</td>\n",
       "    </tr>\n",
       "    <tr>\n",
       "      <th>3</th>\n",
       "      <td>4220106</td>\n",
       "      <td>CAN</td>\n",
       "      <td>13</td>\n",
       "      <td>57118</td>\n",
       "      <td>Male</td>\n",
       "      <td>6</td>\n",
       "      <td>2</td>\n",
       "      <td>4</td>\n",
       "      <td>10</td>\n",
       "      <td>11</td>\n",
       "      <td>...</td>\n",
       "      <td>1</td>\n",
       "      <td>9</td>\n",
       "      <td>0</td>\n",
       "      <td>1</td>\n",
       "      <td>0</td>\n",
       "      <td>0</td>\n",
       "      <td>0</td>\n",
       "      <td>0</td>\n",
       "      <td>0</td>\n",
       "      <td>0</td>\n",
       "    </tr>\n",
       "    <tr>\n",
       "      <th>4</th>\n",
       "      <td>2263008</td>\n",
       "      <td>CAN</td>\n",
       "      <td>14</td>\n",
       "      <td>59834</td>\n",
       "      <td>Male</td>\n",
       "      <td>6</td>\n",
       "      <td>3</td>\n",
       "      <td>4</td>\n",
       "      <td>13</td>\n",
       "      <td>12</td>\n",
       "      <td>...</td>\n",
       "      <td>1</td>\n",
       "      <td>6</td>\n",
       "      <td>1</td>\n",
       "      <td>0</td>\n",
       "      <td>0</td>\n",
       "      <td>0</td>\n",
       "      <td>0</td>\n",
       "      <td>0</td>\n",
       "      <td>0</td>\n",
       "      <td>0</td>\n",
       "    </tr>\n",
       "  </tbody>\n",
       "</table>\n",
       "<p>5 rows × 29 columns</p>\n",
       "</div>"
      ],
      "text/plain": [
       "   Unique ID Country  Age  Annual Family Income ($)  Gender  \\\n",
       "0    7319483     CAN   13                     20423    Male   \n",
       "1    4791965     CAN   13                      5570  Female   \n",
       "2    2991718     CAN   13                     58706  Female   \n",
       "3    4220106     CAN   13                     57118    Male   \n",
       "4    2263008     CAN   14                     59834    Male   \n",
       "\n",
       "   Time spent watching videos/TV  Time spent playing indoor sports  \\\n",
       "0                              3                                 4   \n",
       "1                              3                                 3   \n",
       "2                              2                                 2   \n",
       "3                              6                                 2   \n",
       "4                              6                                 3   \n",
       "\n",
       "   Time spent playing outdoor sports  \\\n",
       "0                                  3   \n",
       "1                                  1   \n",
       "2                                  1   \n",
       "3                                  4   \n",
       "4                                  4   \n",
       "\n",
       "   Total Time spent working in front of screen  Sleeping hours  ...  \\\n",
       "0                                            7               8  ...   \n",
       "1                                           10               3  ...   \n",
       "2                                            4               9  ...   \n",
       "3                                           10              11  ...   \n",
       "4                                           13              12  ...   \n",
       "\n",
       "   Has OTT subscription  Number of friends  Likes spicy food  Likes desserts  \\\n",
       "0                     1                  4                 0               1   \n",
       "1                     1                  6                 0               1   \n",
       "2                     0                  5                 0               0   \n",
       "3                     1                  9                 0               1   \n",
       "4                     1                  6                 1               0   \n",
       "\n",
       "   Wants to change career  Has debt  Has kids Drinks alcohol  Smoker  \\\n",
       "0                       0         0         0              0       0   \n",
       "1                       0         0         0              0       1   \n",
       "2                       0         0         0              0       0   \n",
       "3                       0         0         0              0       0   \n",
       "4                       0         0         0              0       0   \n",
       "\n",
       "   Wear Specs  \n",
       "0           1  \n",
       "1           1  \n",
       "2           0  \n",
       "3           0  \n",
       "4           0  \n",
       "\n",
       "[5 rows x 29 columns]"
      ]
     },
     "execution_count": 12,
     "metadata": {},
     "output_type": "execute_result"
    }
   ],
   "source": [
    "spectacles_data.head()"
   ]
  },
  {
   "cell_type": "code",
   "execution_count": 13,
   "id": "7a800861-b750-4736-9061-888921835b6a",
   "metadata": {
    "tags": []
   },
   "outputs": [
    {
     "data": {
      "text/plain": [
       "(3220, 29)"
      ]
     },
     "execution_count": 13,
     "metadata": {},
     "output_type": "execute_result"
    }
   ],
   "source": [
    "spectacles_data.shape"
   ]
  },
  {
   "cell_type": "code",
   "execution_count": 14,
   "id": "942f05f0-3922-42be-bb03-d27fb6b3e7c2",
   "metadata": {
    "tags": []
   },
   "outputs": [
    {
     "data": {
      "image/png": "[encoded data removed]",
      "text/plain": [
       "<Figure size 1000x500 with 1 Axes>"
      ]
     },
     "metadata": {},
     "output_type": "display_data"
    }
   ],
   "source": [
    "plt.figure(figsize= (10,5))\n",
    "sns.histplot(spectacles_data.Gender, bins = 100, color =  'darkgreen', edgecolor = 'black')\n",
    "plt.show()"
   ]
  },
  {
   "cell_type": "code",
   "execution_count": 15,
   "id": "8a8e3871-f036-4a16-8546-31c11f5149af",
   "metadata": {
    "tags": []
   },
   "outputs": [
    {
     "data": {
      "image/png": "[encoded data removed]",
      "text/plain": [
       "<Figure size 1000x500 with 1 Axes>"
      ]
     },
     "metadata": {},
     "output_type": "display_data"
    }
   ],
   "source": [
    "plt.figure(figsize= (10,5))\n",
    "sns.histplot(spectacles_data.Country, bins = 100, color =  'darkgreen', edgecolor = 'black')\n",
    "plt.show()"
   ]
  },
  {
   "cell_type": "code",
   "execution_count": null,
   "id": "db671127-8a6f-4655-aa40-9ec3ee9d3079",
   "metadata": {},
   "outputs": [],
   "source": []
  },
  {
   "cell_type": "code",
   "execution_count": 16,
   "id": "72e8c4bf-44c8-4327-8eca-7cd471576ced",
   "metadata": {
    "tags": []
   },
   "outputs": [
    {
     "data": {
      "image/png": "[encoded data removed]",
      "text/plain": [
       "<Figure size 800x600 with 1 Axes>"
      ]
     },
     "metadata": {},
     "output_type": "display_data"
    }
   ],
   "source": [
    "plt.figure(figsize=(8, 6))\n",
    "sns.countplot(x='Gender', hue='Education Status', data=spectacles_data)\n",
    "plt.title('Glasses Usage by Gender')\n",
    "plt.xlabel('Gender')\n",
    "plt.ylabel('Count')\n",
    "plt.show()"
   ]
  },
  {
   "cell_type": "code",
   "execution_count": null,
   "id": "df4cee8a-3392-46ac-8b8a-92a6ffed9e6f",
   "metadata": {},
   "outputs": [],
   "source": []
  }
 ],
 "metadata": {
  "kernelspec": {
   "display_name": "Python 3 (ipykernel)",
   "language": "python",
   "name": "python3"
  },
  "language_info": {
   "codemirror_mode": {
    "name": "ipython",
    "version": 3
   },
   "file_extension": ".py",
   "mimetype": "text/x-python",
   "name": "python",
   "nbconvert_exporter": "python",
   "pygments_lexer": "ipython3",
   "version": "3.11.3"
  }
 },
 "nbformat": 4,
 "nbformat_minor": 5
}
